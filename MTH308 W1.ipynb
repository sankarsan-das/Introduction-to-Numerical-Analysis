{
 "cells": [
  {
   "cell_type": "code",
   "execution_count": 1,
   "id": "9e64b23e-2eaf-4d15-b8f9-ecee1670a7c8",
   "metadata": {},
   "outputs": [
    {
     "name": "stdin",
     "output_type": "stream",
     "text": [
      "Enter current number system 1 for decimal, 2 for binary, 3 for octal, 4 for hexadecimal 2\n",
      "Enter the number system to which you want to change the number 1\n",
      "Enter the number 1.01\n"
     ]
    },
    {
     "name": "stdout",
     "output_type": "stream",
     "text": [
      "1.25\n"
     ]
    }
   ],
   "source": [
    "#EXERCISE 1 \n",
    "## WAP TO CONVERT NUMBERS FROM ONE DIGIT SYSTEM TO ANOTHER \n",
    "# DECIMAL TO BINARY,OCTAL,HEXADECIMAL \n",
    "# BINARY TO DECIMAL,OCTAL,HEXADECIMAL\n",
    "# OCTAL TO DECIMAL,BINARY,HEXADECIMAL\n",
    "# HEXADECIMALTO DECIMAL,BINARY AND HEXADECIMAL\n",
    "from math import *\n",
    "# math function imported as it supports many useful libraries \n",
    "def dec_to_sys(num,sys_2):\n",
    "    #This function takes in a float and the number system to which you need to convert the number to. \n",
    "    #I shall use it for converting decimal to binary,octal and hexadecimal \n",
    "    if(num>=0):\n",
    "        temp=\"\"\n",
    "        frac,whole=modf(num)[0],int(modf(num)[1])\n",
    "        #Finding n_ary for the whole part \n",
    "        while(whole!=0):\n",
    "            temp=temp+str(int(whole%sys_2))\n",
    "            whole=whole//sys_2\n",
    "        if(temp==\"\"):temp=\"0\" #for the case when whole number part is 0.\n",
    "        temp=temp[::-1]\n",
    "        temp=temp+'.'\n",
    "        if(frac==0):\n",
    "            temp=temp+'0' #for the case when the fractional part is 0\n",
    "        #Finding n_ary for the decimal part \n",
    "        for _ in range(10):\n",
    "            frac=frac*sys_2\n",
    "            if(int(frac)>=10):\n",
    "                temp=temp+chr(int(frac)+55)\n",
    "            else:\n",
    "                temp=temp+str(int(frac))\n",
    "            frac=frac-int(frac)\n",
    "        print(temp)\n",
    "    else:\n",
    "        temp=\"\"\n",
    "        num=-num\n",
    "        frac,whole=modf(num)[0],int(modf(num)[1])\n",
    "        #Finding binary for the whole part \n",
    "        while(whole!=0):\n",
    "            temp=temp+str(int(whole%sys_2))\n",
    "            whole=whole//sys_2\n",
    "        if(temp==\"\"):temp=\"0\"\n",
    "        temp='-'+temp[::-1]+'.'\n",
    "        #Finding nary for the decimal part \n",
    "        for _ in range(10):\n",
    "            frac=frac*sys_2\n",
    "            if(int(frac)>=10):\n",
    "                temp=temp+chr(int(frac)+55)\n",
    "            else:\n",
    "                temp=temp+str(int(frac))\n",
    "            frac=frac-int(frac)\n",
    "        print(temp)\n",
    "def sys_to_dec(num,sys):\n",
    "    if(num>=0):\n",
    "        frac,whole=(str(num)[str(num).index('.')+1::]),int(modf(num)[1])\n",
    "        step=0\n",
    "        temp=0\n",
    "        while(whole!=0):\n",
    "            temp=temp+(whole%10)*(sys**step)\n",
    "            whole=whole//10\n",
    "            step=step+1\n",
    "        \n",
    "        for i,value in enumerate(list(map(int,list(frac)))):\n",
    "            temp=temp+value*sys**(-i-1)\n",
    "        print(temp)\n",
    "    else:\n",
    "        num=-num\n",
    "        frac,whole=(str(num)[str(num).index('.')+1::]),int(modf(num)[1])\n",
    "        step=0\n",
    "        temp=0\n",
    "        while(whole!=0):\n",
    "            temp=temp+(whole%10)*(sys**step)\n",
    "            whole=whole//10\n",
    "            step=step+1\n",
    "        \n",
    "        for i,value in enumerate(list(map(int,list(frac)))):\n",
    "            temp=temp+value*sys**(-i-1)\n",
    "        print(\"-{}\".format(temp))\n",
    "\n",
    "def hex_to_dec(num):\n",
    "    if(num[0]!='-'):\n",
    "        temp=0\n",
    "        whole=list(num[:num.index('.'):])\n",
    "        frac=list(num[num.index('.')+1::])\n",
    "        whole=[hexa(i) for i in whole]\n",
    "        frac=[hexa(i) for i in frac]\n",
    "        for i,value in enumerate(whole):\n",
    "            temp=temp+value*(16**(len(whole)-1-i))\n",
    "        for j,val in enumerate(frac):\n",
    "            temp=temp+val*(16**(-j-1))\n",
    "        print(temp)\n",
    "    else:\n",
    "        num=num[1::]\n",
    "        temp=0\n",
    "        whole=list(num[:num.index('.'):])\n",
    "        frac=list(num[num.index('.')+1::])\n",
    "        whole=[hexa(i) for i in whole]\n",
    "        frac=[hexa(i) for i in frac]\n",
    "        for i,value in enumerate(whole):\n",
    "            temp=temp+value*(16**(len(whole)-1-i))\n",
    "        for j,val in enumerate(frac):\n",
    "            temp=temp+val*(16**(-j-1))\n",
    "        print(\"-{}\".format(temp))\n",
    "        \n",
    "def hexa(num):\n",
    "    if(num.isnumeric()):\n",
    "        return int(num)\n",
    "    else:\n",
    "        return ord(num)-55\n",
    "\n",
    "sys_1=input(\"Enter current number system 1 for decimal, 2 for binary, 3 for octal, 4 for hexadecimal\")\n",
    "sys_2=input(\"Enter the number system to which you want to change the number\")\n",
    "num=(input(\"Enter the number\"))\n",
    "if(sys_1=='1' and sys_2=='2'):\n",
    "    dec_to_sys(float(num),2)\n",
    "elif(sys_1=='1' and sys_2=='3'):\n",
    "    dec_to_sys(float(num),8)\n",
    "elif(sys_1=='2' and sys_2=='1'):\n",
    "    sys_to_dec(float(num),2)\n",
    "elif(sys_1=='3' and sys_2=='1'):\n",
    "    sys_to_dec(float(num),8)\n",
    "elif(sys_1=='4' and sys_2=='1'):\n",
    "    hex_to_dec(num)\n",
    "elif(sys_1=='1' and sys_2=='4'):\n",
    "    dec_to_hex(float(num))"
   ]
  },
  {
   "cell_type": "code",
   "execution_count": 8,
   "id": "ee0ce67a-3a79-491f-b312-e632fc929cde",
   "metadata": {},
   "outputs": [
    {
     "name": "stdout",
     "output_type": "stream",
     "text": [
      "2.220446049250313e-16\n"
     ]
    }
   ],
   "source": [
    "epsilon=float(1)\n",
    "while(float(1)+epsilon!=float(1)):\n",
    "    epsilon=epsilon/2\n",
    "print(2*epsilon)"
   ]
  },
  {
   "cell_type": "code",
   "execution_count": 4,
   "id": "ecc2f603-8703-4f22-b3bc-ff9f9c8a08b3",
   "metadata": {},
   "outputs": [
    {
     "name": "stdin",
     "output_type": "stream",
     "text": [
      "Enter value of a 1\n",
      "Enter value of b -4\n",
      "Enter constant 3.99999999\n"
     ]
    },
    {
     "name": "stdout",
     "output_type": "stream",
     "text": [
      "2.0001999999993925 amd 1.9998000000006078 are the roots of the quadratic\n"
     ]
    }
   ],
   "source": [
    "#Solving the quadratic equation \n",
    "a=float(input(\"Enter value of a\"))\n",
    "b=float(input(\"Enter value of b\"))\n",
    "c=float(input(\"Enter constant\"))\n",
    "if(a==0):\n",
    "    print(\"Invalid quadratic\")\n",
    "else:\n",
    "    b=b/a\n",
    "    c=c/a\n",
    "    x1=-b/2+(b*b-4*c)**0.5\n",
    "    x2=-b/2-(b*b-4*c)**0.5\n",
    "    print(\"{} amd {} are the roots of the quadratic\".format(x1,x2))\n"
   ]
  },
  {
   "cell_type": "code",
   "execution_count": 18,
   "id": "e954c2fc-ced9-4dfe-8e36-9f30cd5ce4bd",
   "metadata": {},
   "outputs": [
    {
     "data": {
      "image/png": "[encoded data removed]",
      "text/plain": [
       "<Figure size 640x480 with 1 Axes>"
      ]
     },
     "metadata": {},
     "output_type": "display_data"
    },
    {
     "name": "stdout",
     "output_type": "stream",
     "text": [
      "0.6242140912945615, 0.6242140913673211 their midpoint 0.6242140913309413 and function's value at the midpoint -2.0261659017251077e-10\n"
     ]
    }
   ],
   "source": [
    "#Bisection Method to attain solution to non linear equations \n",
    "def func(x,a=1,b=-7,c=+20,d=-10):\n",
    "    return a*x**3+b*x**2+c*x+d\n",
    "a,b,c,d=1,10,14,20\n",
    "import numpy as np\n",
    "import matplotlib.pyplot as plt\n",
    "x=np.linspace(-10,20,10000)\n",
    "y=list(map(func,x))\n",
    "plt.plot(x,y,label=\"Plotting the function\")\n",
    "plt.xlabel=\"X axis\"\n",
    "plt.ylabel=\"Y axis\"\n",
    "plt.gca().spines['bottom'].set_position(('data',0))\n",
    "plt.gca().spines['left'].set_position(('data',0))\n",
    "plt.gca().spines['top'].set_visible(('data',0))\n",
    "plt.gca().spines['right'].set_visible(('data',0))\n",
    "plt.ticklabel_format(style='plain',axis='y')\n",
    "plt.xlim(-10,20)\n",
    "plt.ylim(-1000,1000)\n",
    "plt.show()\n",
    "#Starting the bisection method\n",
    "#Our claim for the algorithm is that we'll if f(x1)f(x2)<0 then there is a root between x1 and x2. \n",
    "x1=-5\n",
    "x2=5\n",
    "while(x2-x1>1e-10):\n",
    "    x_mid=(x2+x1)/2\n",
    "    if(func(x_mid)<0):\n",
    "        x1=x_mid\n",
    "        x2=x2\n",
    "    elif(func(x_mid))>0:\n",
    "        x2=x_mid\n",
    "        x1=x1\n",
    "    else:\n",
    "        print(\"root found accidentally {}\".format(x_mid))\n",
    "        break\n",
    "print(\"{}, {} their midpoint {} and function's value at the midpoint {}\".format(x1,x2,(x1+x2)/2,func((x1+x2)/2)))"
   ]
  },
  {
   "cell_type": "code",
   "execution_count": null,
   "id": "8bd427e5-7c4a-4763-9c72-b7e8b03ce359",
   "metadata": {},
   "outputs": [],
   "source": []
  }
 ],
 "metadata": {
  "kernelspec": {
   "display_name": "Python 3 (ipykernel)",
   "language": "python",
   "name": "python3"
  },
  "language_info": {
   "codemirror_mode": {
    "name": "ipython",
    "version": 3
   },
   "file_extension": ".py",
   "mimetype": "text/x-python",
   "name": "python",
   "nbconvert_exporter": "python",
   "pygments_lexer": "ipython3",
   "version": "3.11.3"
  }
 },
 "nbformat": 4,
 "nbformat_minor": 5
}
