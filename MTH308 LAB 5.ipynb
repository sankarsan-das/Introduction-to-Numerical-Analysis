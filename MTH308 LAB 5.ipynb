{
 "cells": [
  {
   "cell_type": "code",
   "execution_count": 10,
   "id": "9b6c32ec-dcad-4083-afac-9fe4d247dc15",
   "metadata": {
    "scrolled": true
   },
   "outputs": [
    {
     "name": "stdout",
     "output_type": "stream",
     "text": [
      "[[1.   0.   0.   0.  ]\n",
      " [0.5  1.   0.   0.  ]\n",
      " [1.5  0.5  1.   0.  ]\n",
      " [3.   1.25 0.   1.  ]]\n",
      "[[2. 0.]\n",
      " [0. 4.]\n",
      " [0. 0.]\n",
      " [0. 0.]]\n",
      "[[2 0]\n",
      " [1 4]\n",
      " [3 2]\n",
      " [6 5]]\n",
      "[[2. 0.]\n",
      " [1. 4.]\n",
      " [3. 2.]\n",
      " [6. 5.]]\n",
      "1\n"
     ]
    }
   ],
   "source": [
    "import numpy as np\n",
    "\n",
    "#A is the given matrix that we need to find the LU decomposition of...\n",
    "#Q1 \n",
    "rows=4\n",
    "columns=2\n",
    "A=np.array([2,0,1,4,3,2,6,5]).reshape(rows,columns)\n",
    "#A=np.array([2,3,1,4,5,2,6,7,3]).reshape(rows,columns)\n",
    "no_of_zeroes=np.count_nonzero(A==0)\n",
    "\n",
    "#So we can see that the matrix is not sparse...\n",
    "#let us proceed with the basic Do-little factorization\n",
    "\n",
    "L=np.diag(np.ones(rows))\n",
    "U=np.zeros((rows,columns))\n",
    "\n",
    "for i in range(rows):\n",
    "    #Finding the i'th row of L\n",
    "    for m in range(0,min(i,columns)):\n",
    "        s=0\n",
    "        for t in range(0,m):\n",
    "            s=s+L[i][t]*U[t][m]\n",
    "        if(U[m][m]==0):\n",
    "            continue\n",
    "        L[i][m]=(A[i][m]-s)/U[m][m]\n",
    "\n",
    "    #Finding the i'th row of U\n",
    "    for j in range(i,columns):\n",
    "        s=0\n",
    "        for k in range(0,i):\n",
    "            s=s+L[i][k]*U[k][j]  \n",
    "        U[i][j]=(A[i][j]-s)/L[i][i]\n",
    "print(L)\n",
    "print(U)\n",
    "print(A)\n",
    "print(np.dot(L,U))\n",
    "print(no_of_zeroes)"
   ]
  },
  {
   "cell_type": "code",
   "execution_count": null,
   "id": "f644ca27-702e-4746-970d-56fb9b70acfd",
   "metadata": {},
   "outputs": [],
   "source": []
  }
 ],
 "metadata": {
  "kernelspec": {
   "display_name": "Python 3 (ipykernel)",
   "language": "python",
   "name": "python3"
  },
  "language_info": {
   "codemirror_mode": {
    "name": "ipython",
    "version": 3
   },
   "file_extension": ".py",
   "mimetype": "text/x-python",
   "name": "python",
   "nbconvert_exporter": "python",
   "pygments_lexer": "ipython3",
   "version": "3.11.3"
  }
 },
 "nbformat": 4,
 "nbformat_minor": 5
}
