{
 "cells": [
  {
   "cell_type": "code",
   "execution_count": 8,
   "id": "238de1b8-a159-408c-b6a6-2d77efc963e3",
   "metadata": {},
   "outputs": [
    {
     "name": "stdout",
     "output_type": "stream",
     "text": [
      "[1.0, 1.0, 1.0, 1.0, 1.0, 1.0, 1.0, 1.0, 1.0]\n",
      "10\n"
     ]
    }
   ],
   "source": [
    "import numpy as np\n",
    "import pandas as pd\n",
    "\n",
    "x=np.array([[1,2,3,4,5,6,7,8,9,45],\n",
    "           [0,1,2,3,4,5,6,7,8,36],\n",
    "           [0,0,1,2,3,4,5,6,7,28],\n",
    "           [0,0,0,1,2,3,4,5,6,21],\n",
    "           [0,0,0,0,1,2,3,4,5,15],\n",
    "           [0,0,0,0,0,1,2,3,4,10],\n",
    "           [0,0,0,0,0,0,1,2,3,6],\n",
    "           [0,0,0,0,0,0,0,1,2,3],\n",
    "           [0,0,0,0,0,0,0,0,1,1]])\n",
    "solution=[x[8][9]/x[8][8]]\n",
    "for i in range(7,-1,-1):\n",
    "    temp=0\n",
    "    for j in range(1,len(solution)+1):\n",
    "        temp=temp+x[i][-j-1]*solution[j-1]\n",
    "    solution.append((x[i][-1]-temp)/x[i][i-10])\n",
    "print(solution)\n",
    "print(len(x[0]))\n"
   ]
  },
  {
   "cell_type": "code",
   "execution_count": 61,
   "id": "a641900b-f307-43e2-a56b-9baf78f13ddd",
   "metadata": {},
   "outputs": [
    {
     "name": "stdout",
     "output_type": "stream",
     "text": [
      "Original matrix:\n",
      "[[ 1.  1.  1.  1.  1.  1. 13.]\n",
      " [ 2.  3.  2.  0.  0.  5. 11.]\n",
      " [ 0.  0.  3. -3.  1.  1.  8.]\n",
      " [ 1.  1. 10.  3.  0.  0.  2.]\n",
      " [ 3.  5. 12.  0.  0.  0.  1.]\n",
      " [ 0.  0.  1.  1.  1.  1. 10.]]\n",
      "RREF Form:\n",
      "[[ 1.    1.67  4.    0.    0.    0.    0.33]\n",
      " [ 0.67  1.    0.67  0.    0.    1.67  3.67]\n",
      " [ 0.1   0.1   1.    0.3   0.    0.    0.2 ]\n",
      " [-0.   -0.   -1.    1.   -0.33 -0.33 -2.67]\n",
      " [ 1.    1.    1.    1.    1.    1.   13.  ]\n",
      " [ 0.    0.    1.    1.    1.    1.   10.  ]]\n"
     ]
    }
   ],
   "source": [
    "import numpy as np\n",
    "\n",
    "def pivot(i, j, x):\n",
    "    x[[i, j]] = x[[j, i]]  # Swap rows i and j\n",
    "\n",
    "def div(i, val, x):\n",
    "    x[i] /= val  # Divide row i by val\n",
    "\n",
    "def reduce(j, i, val, x):\n",
    "    x[j] -= val * x[i]  # Subtract row i * val from row j\n",
    "\n",
    "def rref(x):\n",
    "    rows, cols = x.shape\n",
    "    for i in range(rows):\n",
    "        # Pivoting\n",
    "        index = np.argmax(abs(x[i:, i])) + i\n",
    "        if x[index, i] == 0:\n",
    "            continue  # Skip if pivot is zero\n",
    "        pivot(i, index, x)\n",
    "        div(i, x[i, i], x)\n",
    "        \n",
    "       \n",
    "    return x\n",
    "\n",
    "x = np.array([[1, 1, 1, 1, 1, 1, 13],\n",
    "              [2, 3, 2, 0, 0, 5, 11],\n",
    "              [0, 0, 3, -3, 1, 1, 8],\n",
    "              [1, 1, 10, 3, 0, 0, 2],\n",
    "              [3, 5, 12, 0, 0, 0, 1],\n",
    "              [0, 0, 1, 1, 1, 1, 10]], dtype=float)\n",
    "\n",
    "print(\"Original matrix:\")\n",
    "print(x)\n",
    "\n",
    "x = rref(x)\n",
    "\n",
    "print(\"RREF Form:\")\n",
    "print(np.array_str(x,precision=2))\n"
   ]
  },
  {
   "cell_type": "code",
   "execution_count": 34,
   "id": "1fb41634-6be9-450b-bf6c-bb98fad6484a",
   "metadata": {},
   "outputs": [
    {
     "name": "stdout",
     "output_type": "stream",
     "text": [
      "[0 3 4]\n",
      "2\n"
     ]
    }
   ],
   "source": [
    "x=np.array([[0,2,-1,1]\n",
    "            ,[3,-1,2,4]\n",
    "            ,[4,3,1,7]])\n",
    "print(x[:,0])\n",
    "print(x[:,0].argmax())"
   ]
  },
  {
   "cell_type": "code",
   "execution_count": 25,
   "id": "753ea966-bbea-4fac-8d85-f6ec1fb20e19",
   "metadata": {},
   "outputs": [
    {
     "name": "stdout",
     "output_type": "stream",
     "text": [
      "[0, 1, 2]\n"
     ]
    }
   ],
   "source": [
    "print(list(range(3)))"
   ]
  },
  {
   "cell_type": "code",
   "execution_count": 45,
   "id": "cb769eb7-1526-49c8-9c6a-1499fac0fab5",
   "metadata": {},
   "outputs": [
    {
     "name": "stdout",
     "output_type": "stream",
     "text": [
      "4\n"
     ]
    }
   ],
   "source": [
    "x = np.array([[1,1,1,1,1,1,13],\n",
    "              [2,3,2,0,0,5,11],\n",
    "              [0,0,3,-3,1,1,8],\n",
    "             [1,1,10,3,0,0,2],\n",
    "              [3,5,12,0,0,0,1],\n",
    "              [0,0,1,1,1,1,10]])\n",
    "print(x[:,0].argmax())"
   ]
  },
  {
   "cell_type": "code",
   "execution_count": 117,
   "id": "ee00200f-7d0e-4b3a-9ccf-0b6e607592f7",
   "metadata": {},
   "outputs": [
    {
     "name": "stdout",
     "output_type": "stream",
     "text": [
      "[[ 3.    5.   12.    0.    0.    0.    1.  ]\n",
      " [ 0.   -0.33 -6.    0.    0.    5.   10.33]\n",
      " [ 0.    0.    3.   -3.    1.    1.    8.  ]\n",
      " [ 0.   -0.67  6.    3.    0.    0.    1.67]\n",
      " [ 0.   -0.67 -3.    1.    1.    1.   12.67]\n",
      " [ 0.    0.    1.    1.    1.    1.   10.  ]]\n",
      "\n",
      "\n",
      "[[ 3.    5.   12.    0.    0.    0.    1.  ]\n",
      " [ 0.   -0.67  6.    3.    0.    0.    1.67]\n",
      " [ 0.    0.    3.   -3.    1.    1.    8.  ]\n",
      " [ 0.    0.   -9.   -1.5   0.    5.    9.5 ]\n",
      " [ 0.    0.   -9.   -2.    1.    1.   11.  ]\n",
      " [ 0.    0.    1.    1.    1.    1.   10.  ]]\n",
      "\n",
      "\n",
      "[[ 3.    5.   12.    0.    0.    0.    1.  ]\n",
      " [ 0.   -0.67  6.    3.    0.    0.    1.67]\n",
      " [ 0.    0.   -9.   -2.    1.    1.   11.  ]\n",
      " [ 0.    0.    0.    0.5  -1.    4.   -1.5 ]\n",
      " [ 0.    0.    0.   -3.67  1.33  1.33 11.67]\n",
      " [ 0.    0.    0.    0.78  1.11  1.11 11.22]]\n",
      "\n",
      "\n",
      "[[ 3.    5.   12.    0.    0.    0.    1.  ]\n",
      " [ 0.   -0.67  6.    3.    0.    0.    1.67]\n",
      " [ 0.    0.   -9.   -2.    1.    1.   11.  ]\n",
      " [ 0.    0.    0.   -3.67  1.33  1.33 11.67]\n",
      " [ 0.    0.    0.    0.   -0.82  4.18  0.09]\n",
      " [ 0.    0.    0.    0.    1.39  1.39 13.7 ]]\n",
      "\n",
      "\n",
      "[[ 3.00e+00  5.00e+00  1.20e+01  0.00e+00  0.00e+00  0.00e+00  1.00e+00]\n",
      " [ 0.00e+00 -6.67e-01  6.00e+00  3.00e+00  0.00e+00  0.00e+00  1.67e+00]\n",
      " [ 0.00e+00  0.00e+00 -9.00e+00 -2.00e+00  1.00e+00  1.00e+00  1.10e+01]\n",
      " [ 0.00e+00  0.00e+00  0.00e+00 -3.67e+00  1.33e+00  1.33e+00  1.17e+01]\n",
      " [ 0.00e+00  0.00e+00  0.00e+00  0.00e+00  1.39e+00  1.39e+00  1.37e+01]\n",
      " [ 0.00e+00  0.00e+00  0.00e+00  0.00e+00  1.11e-16  5.00e+00  8.13e+00]]\n",
      "\n",
      "\n",
      "[[ 3.00e+00  5.00e+00  1.20e+01  0.00e+00  0.00e+00  0.00e+00  1.00e+00]\n",
      " [ 0.00e+00 -6.67e-01  6.00e+00  3.00e+00  0.00e+00  0.00e+00  1.67e+00]\n",
      " [ 0.00e+00  0.00e+00 -9.00e+00 -2.00e+00  1.00e+00  1.00e+00  1.10e+01]\n",
      " [ 0.00e+00  0.00e+00  0.00e+00 -3.67e+00  1.33e+00  1.33e+00  1.17e+01]\n",
      " [ 0.00e+00  0.00e+00  0.00e+00  0.00e+00  1.39e+00  1.39e+00  1.37e+01]\n",
      " [ 0.00e+00  0.00e+00  0.00e+00  0.00e+00  1.11e-16  5.00e+00  8.13e+00]]\n",
      "\n",
      "\n"
     ]
    }
   ],
   "source": [
    "def pivot(i,j,x):\n",
    "    for m in range(len(x[0])):\n",
    "        x[i][m],x[j][m]=x[j][m],x[i][m]\n",
    "    return x\n",
    "def reduce(i,j,val,x):\n",
    "    for m in range(len(x[0])):\n",
    "        x[j][m]=x[j][m]-val*x[i][m]\n",
    "    return x\n",
    "import pandas as pd\n",
    "import numpy as np\n",
    "\n",
    "x = np.array([[1, 1, 1, 1, 1, 1, 13],\n",
    "              [2, 3, 2, 0, 0, 5, 11],\n",
    "              [0, 0, 3, -3, 1, 1, 8],\n",
    "              [1, 1, 10, 3, 0, 0, 2],\n",
    "              [3, 5, 12, 0, 0, 0, 1],\n",
    "              [0, 0, 1, 1, 1, 1, 10]], dtype=float)\n",
    "\n",
    "\n",
    "for t in range(0,len(x)):\n",
    "    arr=np.array(list(map(abs,x[t:,t])))\n",
    "    index=arr.argmax()\n",
    "    x=pivot(t,t+index,x)\n",
    "    for j in range(t+1,len(x)):\n",
    "        x=reduce(t,j,x[j][t]/x[t][t],x)\n",
    "    print(np.array_str(x,precision=2))\n",
    "    print(\"\\n\")\n",
    "    \n",
    "#print(np.array_str(x,precision =2))"
   ]
  },
  {
   "cell_type": "code",
   "execution_count": 75,
   "id": "27595842-dd7d-45d0-bbb0-3049765d2a6e",
   "metadata": {},
   "outputs": [
    {
     "ename": "TypeError",
     "evalue": "bad operand type for abs(): 'list'",
     "output_type": "error",
     "traceback": [
      "\u001b[1;31m---------------------------------------------------------------------------\u001b[0m",
      "\u001b[1;31mTypeError\u001b[0m                                 Traceback (most recent call last)",
      "Cell \u001b[1;32mIn[75], line 1\u001b[0m\n\u001b[1;32m----> 1\u001b[0m \u001b[38;5;28mprint\u001b[39m(\u001b[38;5;28;43mabs\u001b[39;49m\u001b[43m(\u001b[49m\u001b[43m[\u001b[49m\u001b[38;5;241;43m2\u001b[39;49m\u001b[43m,\u001b[49m\u001b[38;5;241;43m3\u001b[39;49m\u001b[43m,\u001b[49m\u001b[38;5;241;43m-\u001b[39;49m\u001b[38;5;241;43m1\u001b[39;49m\u001b[43m,\u001b[49m\u001b[38;5;241;43m-\u001b[39;49m\u001b[38;5;241;43m10\u001b[39;49m\u001b[43m]\u001b[49m\u001b[43m)\u001b[49m)\n",
      "\u001b[1;31mTypeError\u001b[0m: bad operand type for abs(): 'list'"
     ]
    }
   ],
   "source": [
    "print(abs([2,3,-1,-10"
   ]
  },
  {
   "cell_type": "code",
   "execution_count": null,
   "id": "81a0cead-d5e1-4381-bed9-d55d08687d51",
   "metadata": {},
   "outputs": [],
   "source": [
    "arr=np.array(list(map(abs,x[:,0])))\n",
    "index=arr.argmax()\n",
    "x=pivot(0,index,x)\n",
    "for j in range(1,len(x)):\n",
    "    x=reduce(0,j,x[j][0]/x[0][0],x)\n",
    "#print(np.array_str(x,precision=2))\n",
    "arr=np.array(list(map(abs,x[1:,1])))\n",
    "index=arr.argmax()\n",
    "x=pivot(1,1+index,x)\n",
    "#print(np.array_str(x,precision=2))\n",
    "for j in range(2,len(x)):\n",
    "    x=reduce(1,j,x[j][1]/x[1][1],x)\n",
    "print(np.array_str(x,precision=2))\n",
    "arr=np.array(list(map(abs,x[2:,2])))\n",
    "index=arr.argmax()\n",
    "x=pivot(2,2+index,x)\n",
    "for j in range(3,len(x)):\n",
    "    x=reduce(2,j,x[j][2]/x[2][2],x)\n",
    "print(np.array_str(x,precision=2))"
   ]
  },
  {
   "cell_type": "code",
   "execution_count": 121,
   "id": "cefea695-df59-4d44-92b8-c10f55c1b3fe",
   "metadata": {},
   "outputs": [
    {
     "name": "stdout",
     "output_type": "stream",
     "text": [
      "Original matrix:\n",
      "[[ 1.  1.  1.  1.  1.  1. 13.]\n",
      " [ 2.  3.  2.  0.  0.  5. 11.]\n",
      " [ 0.  0.  3. -3.  1.  1.  8.]\n",
      " [ 1.  1. 10.  3.  0.  0.  2.]\n",
      " [ 3.  5. 12.  0.  0.  0.  1.]\n",
      " [ 0.  0.  1.  1.  1.  1. 10.]]\n",
      "Upper Triangular Form:\n",
      "[[ 3.00e+00  5.00e+00  1.20e+01  0.00e+00  0.00e+00  0.00e+00  1.00e+00]\n",
      " [ 0.00e+00 -6.67e-01  6.00e+00  3.00e+00  0.00e+00  0.00e+00  1.67e+00]\n",
      " [ 0.00e+00  0.00e+00 -9.00e+00 -2.00e+00  1.00e+00  1.00e+00  1.10e+01]\n",
      " [ 0.00e+00  0.00e+00  0.00e+00 -3.67e+00  1.33e+00  1.33e+00  1.17e+01]\n",
      " [ 0.00e+00  0.00e+00  0.00e+00  0.00e+00  1.39e+00  1.39e+00  1.37e+01]\n",
      " [ 0.00e+00  0.00e+00  0.00e+00  0.00e+00  1.11e-16  5.00e+00  8.13e+00]]\n"
     ]
    }
   ],
   "source": [
    "import numpy as np\n",
    "\n",
    "def pivot(i, j, x):\n",
    "    x[[i, j]] = x[[j, i]]  # Swap rows i and j\n",
    "\n",
    "def reduce(j, i, val, x):\n",
    "    x[j] -= val * x[i]  # Subtract row i * val from row j\n",
    "\n",
    "def upper_triangular(x):\n",
    "    rows, cols = x.shape\n",
    "    for i in range(min(rows, cols)):\n",
    "        # Pivoting for numerical stability\n",
    "        index = np.argmax(abs(x[i:, i])) + i\n",
    "        if x[index, i] == 0:\n",
    "            continue  # Skip if pivot is zero\n",
    "        pivot(i, index, x)\n",
    "        \n",
    "        # Eliminate entries below the pivot\n",
    "        for j in range(i + 1, rows):\n",
    "            if x[j, i] != 0:\n",
    "                reduce(j, i, x[j, i] / x[i, i], x)\n",
    "    return x\n",
    "\n",
    "x = np.array([[1, 1, 1, 1, 1, 1, 13],\n",
    "              [2, 3, 2, 0, 0, 5, 11],\n",
    "              [0, 0, 3, -3, 1, 1, 8],\n",
    "              [1, 1, 10, 3, 0, 0, 2],\n",
    "              [3, 5, 12, 0, 0, 0, 1],\n",
    "              [0, 0, 1, 1, 1, 1, 10]], dtype=float)\n",
    "\n",
    "print(\"Original matrix:\")\n",
    "print(x)\n",
    "\n",
    "x = upper_triangular(x)\n",
    "\n",
    "print(\"Upper Triangular Form:\")\n",
    "print(np.array_str(x,precision=2))\n"
   ]
  },
  {
   "cell_type": "code",
   "execution_count": 127,
   "id": "5dbd98a1-f908-461a-9d4b-3afa561ff1b3",
   "metadata": {},
   "outputs": [
    {
     "name": "stdout",
     "output_type": "stream",
     "text": [
      "Original matrix:\n",
      "[[ 2. -1.  3.  4. 10.]\n",
      " [ 1.  1.  1.  1.  5.]\n",
      " [ 3. -2.  5.  2.  7.]\n",
      " [ 4.  3.  2.  1.  8.]]\n",
      "Upper Triangular Form:\n",
      "[[ 1.    0.75  0.5   0.25  2.  ]\n",
      " [-0.    1.   -0.82 -0.29 -0.24]\n",
      " [ 0.    0.    1.    1.17  4.33]\n",
      " [ 0.    0.    0.    1.    2.  ]]\n"
     ]
    }
   ],
   "source": [
    "import numpy as np\n",
    "\n",
    "def pivot(i, j, x):\n",
    "    x[[i, j]] = x[[j, i]]  # Swap rows i and j\n",
    "\n",
    "def reduce(j, i, x):\n",
    "    factor = x[j, i] / x[i, i]\n",
    "    x[j] -= factor * x[i]  # Subtract row i * factor from row j\n",
    "\n",
    "def upper_triangular(x):\n",
    "    rows, cols = x.shape\n",
    "    for i in range(rows):\n",
    "        # Pivoting for numerical stability\n",
    "        index = np.argmax(abs(x[i:, i])) + i\n",
    "        if abs(x[index, i]) < 1e-10:\n",
    "            continue  # Skip if pivot is effectively zero\n",
    "        pivot(i, index, x)\n",
    "        \n",
    "        # Normalize pivot row\n",
    "        x[i] /= x[i, i]\n",
    "        \n",
    "        # Eliminate entries below the pivot\n",
    "        for j in range(i + 1, rows):\n",
    "            if abs(x[j, i]) > 1e-10:\n",
    "                reduce(j, i, x)\n",
    "    return x\n",
    "\n",
    "x = np.array([[2,-1,3,4,10],\n",
    "              [1,1,1,1,5],\n",
    "              [3,-2,5,2,7],\n",
    "              [4,3,2,1,8]], dtype=float)\n",
    "\n",
    "print(\"Original matrix:\")\n",
    "print(x)\n",
    "\n",
    "x = upper_triangular(x)\n",
    "\n",
    "print(\"Upper Triangular Form:\")\n",
    "print(np.array_str(x,precision=2))\n"
   ]
  },
  {
   "cell_type": "code",
   "execution_count": null,
   "id": "ad6dd118-a654-4e3a-ba69-f9fde449d686",
   "metadata": {},
   "outputs": [],
   "source": []
  }
 ],
 "metadata": {
  "kernelspec": {
   "display_name": "Python 3 (ipykernel)",
   "language": "python",
   "name": "python3"
  },
  "language_info": {
   "codemirror_mode": {
    "name": "ipython",
    "version": 3
   },
   "file_extension": ".py",
   "mimetype": "text/x-python",
   "name": "python",
   "nbconvert_exporter": "python",
   "pygments_lexer": "ipython3",
   "version": "3.11.3"
  }
 },
 "nbformat": 4,
 "nbformat_minor": 5
}
